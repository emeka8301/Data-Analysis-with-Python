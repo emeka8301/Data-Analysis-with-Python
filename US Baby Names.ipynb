{
 "cells": [
  {
   "cell_type": "markdown",
   "id": "c56265b8",
   "metadata": {},
   "source": [
    "The United States Social Security Administration (SSA) has made available data on the frequency of baby names from 1880 through the present.\n",
    "\n",
    "With this dataset, I can visualise the proportion of babies given a particular name, determine the relative rank of name, the most popular names in each year, analyze external sources of trends."
   ]
  },
  {
   "cell_type": "code",
   "execution_count": 1,
   "id": "9f2ab5c4",
   "metadata": {},
   "outputs": [
    {
     "name": "stderr",
     "output_type": "stream",
     "text": [
      "C:\\Users\\onwoc\\anaconda\\lib\\site-packages\\pandas\\core\\computation\\expressions.py:21: UserWarning: Pandas requires version '2.8.4' or newer of 'numexpr' (version '2.8.3' currently installed).\n",
      "  from pandas.core.computation.check import NUMEXPR_INSTALLED\n",
      "C:\\Users\\onwoc\\anaconda\\lib\\site-packages\\pandas\\core\\arrays\\masked.py:60: UserWarning: Pandas requires version '1.3.6' or newer of 'bottleneck' (version '1.3.5' currently installed).\n",
      "  from pandas.core import (\n"
     ]
    }
   ],
   "source": [
    "import pandas as pd\n",
    "import numpy as np\n",
    "import os\n",
    "import matplotlib.pyplot as plt\n",
    "\n",
    "import warnings\n",
    "warnings.filterwarnings('ignore')"
   ]
  },
  {
   "cell_type": "markdown",
   "id": "bcd62b43",
   "metadata": {},
   "source": [
    "The datast is split by years so I have assembled them into a list and concatenated them to represent one big dataframe"
   ]
  },
  {
   "cell_type": "code",
   "execution_count": 2,
   "id": "7c8ab540",
   "metadata": {},
   "outputs": [],
   "source": [
    "pieces = []\n",
    "\n",
    "for year in range(1880, 2024):\n",
    "    path = f\"names\\yob{year}.txt\"\n",
    "    frame = pd.read_csv(path, names=[\"name\", \"sex\", \"births\"])\n",
    "    \n",
    "    #Add a colulm for the year\n",
    "    frame[\"year\"] = year\n",
    "    pieces.append(frame)\n",
    "    \n",
    "    \n",
    "#Concatenate everything into a single dataframe\n",
    "names = pd.concat(pieces, ignore_index=True)"
   ]
  },
  {
   "cell_type": "code",
   "execution_count": 3,
   "id": "cb05e72e",
   "metadata": {},
   "outputs": [
    {
     "data": {
      "text/html": [
       "<div>\n",
       "<style scoped>\n",
       "    .dataframe tbody tr th:only-of-type {\n",
       "        vertical-align: middle;\n",
       "    }\n",
       "\n",
       "    .dataframe tbody tr th {\n",
       "        vertical-align: top;\n",
       "    }\n",
       "\n",
       "    .dataframe thead th {\n",
       "        text-align: right;\n",
       "    }\n",
       "</style>\n",
       "<table border=\"1\" class=\"dataframe\">\n",
       "  <thead>\n",
       "    <tr style=\"text-align: right;\">\n",
       "      <th></th>\n",
       "      <th>name</th>\n",
       "      <th>sex</th>\n",
       "      <th>births</th>\n",
       "      <th>year</th>\n",
       "    </tr>\n",
       "  </thead>\n",
       "  <tbody>\n",
       "    <tr>\n",
       "      <th>0</th>\n",
       "      <td>Mary</td>\n",
       "      <td>F</td>\n",
       "      <td>7065</td>\n",
       "      <td>1880</td>\n",
       "    </tr>\n",
       "    <tr>\n",
       "      <th>1</th>\n",
       "      <td>Anna</td>\n",
       "      <td>F</td>\n",
       "      <td>2604</td>\n",
       "      <td>1880</td>\n",
       "    </tr>\n",
       "    <tr>\n",
       "      <th>2</th>\n",
       "      <td>Emma</td>\n",
       "      <td>F</td>\n",
       "      <td>2003</td>\n",
       "      <td>1880</td>\n",
       "    </tr>\n",
       "    <tr>\n",
       "      <th>3</th>\n",
       "      <td>Elizabeth</td>\n",
       "      <td>F</td>\n",
       "      <td>1939</td>\n",
       "      <td>1880</td>\n",
       "    </tr>\n",
       "    <tr>\n",
       "      <th>4</th>\n",
       "      <td>Minnie</td>\n",
       "      <td>F</td>\n",
       "      <td>1746</td>\n",
       "      <td>1880</td>\n",
       "    </tr>\n",
       "    <tr>\n",
       "      <th>...</th>\n",
       "      <td>...</td>\n",
       "      <td>...</td>\n",
       "      <td>...</td>\n",
       "      <td>...</td>\n",
       "    </tr>\n",
       "    <tr>\n",
       "      <th>2117214</th>\n",
       "      <td>Zyell</td>\n",
       "      <td>M</td>\n",
       "      <td>5</td>\n",
       "      <td>2023</td>\n",
       "    </tr>\n",
       "    <tr>\n",
       "      <th>2117215</th>\n",
       "      <td>Zyen</td>\n",
       "      <td>M</td>\n",
       "      <td>5</td>\n",
       "      <td>2023</td>\n",
       "    </tr>\n",
       "    <tr>\n",
       "      <th>2117216</th>\n",
       "      <td>Zymirr</td>\n",
       "      <td>M</td>\n",
       "      <td>5</td>\n",
       "      <td>2023</td>\n",
       "    </tr>\n",
       "    <tr>\n",
       "      <th>2117217</th>\n",
       "      <td>Zyquan</td>\n",
       "      <td>M</td>\n",
       "      <td>5</td>\n",
       "      <td>2023</td>\n",
       "    </tr>\n",
       "    <tr>\n",
       "      <th>2117218</th>\n",
       "      <td>Zyrin</td>\n",
       "      <td>M</td>\n",
       "      <td>5</td>\n",
       "      <td>2023</td>\n",
       "    </tr>\n",
       "  </tbody>\n",
       "</table>\n",
       "<p>2117219 rows × 4 columns</p>\n",
       "</div>"
      ],
      "text/plain": [
       "              name sex  births  year\n",
       "0             Mary   F    7065  1880\n",
       "1             Anna   F    2604  1880\n",
       "2             Emma   F    2003  1880\n",
       "3        Elizabeth   F    1939  1880\n",
       "4           Minnie   F    1746  1880\n",
       "...            ...  ..     ...   ...\n",
       "2117214      Zyell   M       5  2023\n",
       "2117215       Zyen   M       5  2023\n",
       "2117216     Zymirr   M       5  2023\n",
       "2117217     Zyquan   M       5  2023\n",
       "2117218      Zyrin   M       5  2023\n",
       "\n",
       "[2117219 rows x 4 columns]"
      ]
     },
     "execution_count": 3,
     "metadata": {},
     "output_type": "execute_result"
    }
   ],
   "source": [
    "names"
   ]
  },
  {
   "cell_type": "code",
   "execution_count": 4,
   "id": "d12037ca",
   "metadata": {},
   "outputs": [],
   "source": [
    " total_births = names.groupby([\"year\", \"sex\"])[\"births\"].sum().unstack(\"sex\")"
   ]
  },
  {
   "cell_type": "code",
   "execution_count": 5,
   "id": "6979fa19",
   "metadata": {},
   "outputs": [
    {
     "data": {
      "text/html": [
       "<div>\n",
       "<style scoped>\n",
       "    .dataframe tbody tr th:only-of-type {\n",
       "        vertical-align: middle;\n",
       "    }\n",
       "\n",
       "    .dataframe tbody tr th {\n",
       "        vertical-align: top;\n",
       "    }\n",
       "\n",
       "    .dataframe thead th {\n",
       "        text-align: right;\n",
       "    }\n",
       "</style>\n",
       "<table border=\"1\" class=\"dataframe\">\n",
       "  <thead>\n",
       "    <tr style=\"text-align: right;\">\n",
       "      <th>sex</th>\n",
       "      <th>F</th>\n",
       "      <th>M</th>\n",
       "    </tr>\n",
       "    <tr>\n",
       "      <th>year</th>\n",
       "      <th></th>\n",
       "      <th></th>\n",
       "    </tr>\n",
       "  </thead>\n",
       "  <tbody>\n",
       "    <tr>\n",
       "      <th>2019</th>\n",
       "      <td>1676568</td>\n",
       "      <td>1792223</td>\n",
       "    </tr>\n",
       "    <tr>\n",
       "      <th>2020</th>\n",
       "      <td>1614196</td>\n",
       "      <td>1723649</td>\n",
       "    </tr>\n",
       "    <tr>\n",
       "      <th>2021</th>\n",
       "      <td>1638188</td>\n",
       "      <td>1746499</td>\n",
       "    </tr>\n",
       "    <tr>\n",
       "      <th>2022</th>\n",
       "      <td>1636657</td>\n",
       "      <td>1741954</td>\n",
       "    </tr>\n",
       "    <tr>\n",
       "      <th>2023</th>\n",
       "      <td>1596022</td>\n",
       "      <td>1701224</td>\n",
       "    </tr>\n",
       "  </tbody>\n",
       "</table>\n",
       "</div>"
      ],
      "text/plain": [
       "sex         F        M\n",
       "year                  \n",
       "2019  1676568  1792223\n",
       "2020  1614196  1723649\n",
       "2021  1638188  1746499\n",
       "2022  1636657  1741954\n",
       "2023  1596022  1701224"
      ]
     },
     "execution_count": 5,
     "metadata": {},
     "output_type": "execute_result"
    }
   ],
   "source": [
    "total_births.tail()"
   ]
  },
  {
   "cell_type": "code",
   "execution_count": 6,
   "id": "ae1cca4d",
   "metadata": {},
   "outputs": [
    {
     "data": {
      "text/plain": [
       "<AxesSubplot:title={'center':'Total births by sex and year'}, xlabel='year'>"
      ]
     },
     "execution_count": 6,
     "metadata": {},
     "output_type": "execute_result"
    },
    {
     "data": {
      "image/png": "[encoded data removed]",
      "text/plain": [
       "<Figure size 640x480 with 1 Axes>"
      ]
     },
     "metadata": {},
     "output_type": "display_data"
    }
   ],
   "source": [
    "total_births.plot(title=\"Total births by sex and year\")"
   ]
  },
  {
   "cell_type": "markdown",
   "id": "76003cea",
   "metadata": {},
   "source": [
    "I want to add a column with the fraction of babies given each name relative to the total number of births. a prop value of 0.04 indicates that 4 out of every 100 babies are given a particular name"
   ]
  },
  {
   "cell_type": "code",
   "execution_count": 7,
   "id": "91104b61",
   "metadata": {},
   "outputs": [
    {
     "data": {
      "text/html": [
       "<div>\n",
       "<style scoped>\n",
       "    .dataframe tbody tr th:only-of-type {\n",
       "        vertical-align: middle;\n",
       "    }\n",
       "\n",
       "    .dataframe tbody tr th {\n",
       "        vertical-align: top;\n",
       "    }\n",
       "\n",
       "    .dataframe thead th {\n",
       "        text-align: right;\n",
       "    }\n",
       "</style>\n",
       "<table border=\"1\" class=\"dataframe\">\n",
       "  <thead>\n",
       "    <tr style=\"text-align: right;\">\n",
       "      <th></th>\n",
       "      <th>name</th>\n",
       "      <th>sex</th>\n",
       "      <th>births</th>\n",
       "      <th>year</th>\n",
       "    </tr>\n",
       "  </thead>\n",
       "  <tbody>\n",
       "    <tr>\n",
       "      <th>0</th>\n",
       "      <td>Mary</td>\n",
       "      <td>F</td>\n",
       "      <td>7065</td>\n",
       "      <td>1880</td>\n",
       "    </tr>\n",
       "    <tr>\n",
       "      <th>1</th>\n",
       "      <td>Anna</td>\n",
       "      <td>F</td>\n",
       "      <td>2604</td>\n",
       "      <td>1880</td>\n",
       "    </tr>\n",
       "    <tr>\n",
       "      <th>2</th>\n",
       "      <td>Emma</td>\n",
       "      <td>F</td>\n",
       "      <td>2003</td>\n",
       "      <td>1880</td>\n",
       "    </tr>\n",
       "    <tr>\n",
       "      <th>3</th>\n",
       "      <td>Elizabeth</td>\n",
       "      <td>F</td>\n",
       "      <td>1939</td>\n",
       "      <td>1880</td>\n",
       "    </tr>\n",
       "    <tr>\n",
       "      <th>4</th>\n",
       "      <td>Minnie</td>\n",
       "      <td>F</td>\n",
       "      <td>1746</td>\n",
       "      <td>1880</td>\n",
       "    </tr>\n",
       "  </tbody>\n",
       "</table>\n",
       "</div>"
      ],
      "text/plain": [
       "        name sex  births  year\n",
       "0       Mary   F    7065  1880\n",
       "1       Anna   F    2604  1880\n",
       "2       Emma   F    2003  1880\n",
       "3  Elizabeth   F    1939  1880\n",
       "4     Minnie   F    1746  1880"
      ]
     },
     "execution_count": 7,
     "metadata": {},
     "output_type": "execute_result"
    }
   ],
   "source": [
    "names.head()"
   ]
  },
  {
   "cell_type": "code",
   "execution_count": 8,
   "id": "8bfcff85",
   "metadata": {},
   "outputs": [],
   "source": [
    "def add_prop(group):\n",
    "    group[\"props\"] = group[\"births\"] / group[\"births\"].sum()\n",
    "    \n",
    "    return group\n",
    "\n",
    "names = names.groupby([\"year\", \"sex\"], group_keys=False).apply(add_prop)\n"
   ]
  },
  {
   "cell_type": "code",
   "execution_count": 9,
   "id": "ead83d2b",
   "metadata": {},
   "outputs": [
    {
     "data": {
      "text/html": [
       "<div>\n",
       "<style scoped>\n",
       "    .dataframe tbody tr th:only-of-type {\n",
       "        vertical-align: middle;\n",
       "    }\n",
       "\n",
       "    .dataframe tbody tr th {\n",
       "        vertical-align: top;\n",
       "    }\n",
       "\n",
       "    .dataframe thead th {\n",
       "        text-align: right;\n",
       "    }\n",
       "</style>\n",
       "<table border=\"1\" class=\"dataframe\">\n",
       "  <thead>\n",
       "    <tr style=\"text-align: right;\">\n",
       "      <th></th>\n",
       "      <th>name</th>\n",
       "      <th>sex</th>\n",
       "      <th>births</th>\n",
       "      <th>year</th>\n",
       "      <th>props</th>\n",
       "    </tr>\n",
       "  </thead>\n",
       "  <tbody>\n",
       "    <tr>\n",
       "      <th>0</th>\n",
       "      <td>Mary</td>\n",
       "      <td>F</td>\n",
       "      <td>7065</td>\n",
       "      <td>1880</td>\n",
       "      <td>0.077642</td>\n",
       "    </tr>\n",
       "    <tr>\n",
       "      <th>1</th>\n",
       "      <td>Anna</td>\n",
       "      <td>F</td>\n",
       "      <td>2604</td>\n",
       "      <td>1880</td>\n",
       "      <td>0.028617</td>\n",
       "    </tr>\n",
       "    <tr>\n",
       "      <th>2</th>\n",
       "      <td>Emma</td>\n",
       "      <td>F</td>\n",
       "      <td>2003</td>\n",
       "      <td>1880</td>\n",
       "      <td>0.022012</td>\n",
       "    </tr>\n",
       "    <tr>\n",
       "      <th>3</th>\n",
       "      <td>Elizabeth</td>\n",
       "      <td>F</td>\n",
       "      <td>1939</td>\n",
       "      <td>1880</td>\n",
       "      <td>0.021309</td>\n",
       "    </tr>\n",
       "    <tr>\n",
       "      <th>4</th>\n",
       "      <td>Minnie</td>\n",
       "      <td>F</td>\n",
       "      <td>1746</td>\n",
       "      <td>1880</td>\n",
       "      <td>0.019188</td>\n",
       "    </tr>\n",
       "  </tbody>\n",
       "</table>\n",
       "</div>"
      ],
      "text/plain": [
       "        name sex  births  year     props\n",
       "0       Mary   F    7065  1880  0.077642\n",
       "1       Anna   F    2604  1880  0.028617\n",
       "2       Emma   F    2003  1880  0.022012\n",
       "3  Elizabeth   F    1939  1880  0.021309\n",
       "4     Minnie   F    1746  1880  0.019188"
      ]
     },
     "execution_count": 9,
     "metadata": {},
     "output_type": "execute_result"
    }
   ],
   "source": [
    "names.head()"
   ]
  },
  {
   "cell_type": "markdown",
   "id": "8b2825af",
   "metadata": {},
   "source": [
    "I’m going to extract a subset of the data to facilitate further\n",
    "analysis: the top 1,000 names for each sex/year combination"
   ]
  },
  {
   "cell_type": "code",
   "execution_count": 10,
   "id": "df23a0a9",
   "metadata": {},
   "outputs": [
    {
     "data": {
      "text/html": [
       "<div>\n",
       "<style scoped>\n",
       "    .dataframe tbody tr th:only-of-type {\n",
       "        vertical-align: middle;\n",
       "    }\n",
       "\n",
       "    .dataframe tbody tr th {\n",
       "        vertical-align: top;\n",
       "    }\n",
       "\n",
       "    .dataframe thead th {\n",
       "        text-align: right;\n",
       "    }\n",
       "</style>\n",
       "<table border=\"1\" class=\"dataframe\">\n",
       "  <thead>\n",
       "    <tr style=\"text-align: right;\">\n",
       "      <th></th>\n",
       "      <th></th>\n",
       "      <th></th>\n",
       "      <th>name</th>\n",
       "      <th>sex</th>\n",
       "      <th>births</th>\n",
       "      <th>year</th>\n",
       "      <th>props</th>\n",
       "    </tr>\n",
       "    <tr>\n",
       "      <th>year</th>\n",
       "      <th>sex</th>\n",
       "      <th></th>\n",
       "      <th></th>\n",
       "      <th></th>\n",
       "      <th></th>\n",
       "      <th></th>\n",
       "      <th></th>\n",
       "    </tr>\n",
       "  </thead>\n",
       "  <tbody>\n",
       "    <tr>\n",
       "      <th rowspan=\"5\" valign=\"top\">1880</th>\n",
       "      <th rowspan=\"5\" valign=\"top\">F</th>\n",
       "      <th>0</th>\n",
       "      <td>Mary</td>\n",
       "      <td>F</td>\n",
       "      <td>7065</td>\n",
       "      <td>1880</td>\n",
       "      <td>0.077642</td>\n",
       "    </tr>\n",
       "    <tr>\n",
       "      <th>1</th>\n",
       "      <td>Anna</td>\n",
       "      <td>F</td>\n",
       "      <td>2604</td>\n",
       "      <td>1880</td>\n",
       "      <td>0.028617</td>\n",
       "    </tr>\n",
       "    <tr>\n",
       "      <th>2</th>\n",
       "      <td>Emma</td>\n",
       "      <td>F</td>\n",
       "      <td>2003</td>\n",
       "      <td>1880</td>\n",
       "      <td>0.022012</td>\n",
       "    </tr>\n",
       "    <tr>\n",
       "      <th>3</th>\n",
       "      <td>Elizabeth</td>\n",
       "      <td>F</td>\n",
       "      <td>1939</td>\n",
       "      <td>1880</td>\n",
       "      <td>0.021309</td>\n",
       "    </tr>\n",
       "    <tr>\n",
       "      <th>4</th>\n",
       "      <td>Minnie</td>\n",
       "      <td>F</td>\n",
       "      <td>1746</td>\n",
       "      <td>1880</td>\n",
       "      <td>0.019188</td>\n",
       "    </tr>\n",
       "  </tbody>\n",
       "</table>\n",
       "</div>"
      ],
      "text/plain": [
       "                 name sex  births  year     props\n",
       "year sex                                         \n",
       "1880 F   0       Mary   F    7065  1880  0.077642\n",
       "         1       Anna   F    2604  1880  0.028617\n",
       "         2       Emma   F    2003  1880  0.022012\n",
       "         3  Elizabeth   F    1939  1880  0.021309\n",
       "         4     Minnie   F    1746  1880  0.019188"
      ]
     },
     "execution_count": 10,
     "metadata": {},
     "output_type": "execute_result"
    }
   ],
   "source": [
    "def get_top1000(group):\n",
    "    return group.sort_values(\"births\", ascending=False)[:1000]\n",
    "\n",
    "grouped = names.groupby([\"year\", \"sex\"])\n",
    "\n",
    "top1000 = grouped.apply(get_top1000)\n",
    "\n",
    "top1000.head()"
   ]
  },
  {
   "cell_type": "markdown",
   "id": "d9be757b",
   "metadata": {},
   "source": [
    "We can drop the group index "
   ]
  },
  {
   "cell_type": "code",
   "execution_count": 11,
   "id": "9b1909bb",
   "metadata": {},
   "outputs": [],
   "source": [
    "top1000 = top1000.reset_index(drop=True)"
   ]
  },
  {
   "cell_type": "code",
   "execution_count": 12,
   "id": "59030301",
   "metadata": {},
   "outputs": [
    {
     "data": {
      "text/html": [
       "<div>\n",
       "<style scoped>\n",
       "    .dataframe tbody tr th:only-of-type {\n",
       "        vertical-align: middle;\n",
       "    }\n",
       "\n",
       "    .dataframe tbody tr th {\n",
       "        vertical-align: top;\n",
       "    }\n",
       "\n",
       "    .dataframe thead th {\n",
       "        text-align: right;\n",
       "    }\n",
       "</style>\n",
       "<table border=\"1\" class=\"dataframe\">\n",
       "  <thead>\n",
       "    <tr style=\"text-align: right;\">\n",
       "      <th></th>\n",
       "      <th>name</th>\n",
       "      <th>sex</th>\n",
       "      <th>births</th>\n",
       "      <th>year</th>\n",
       "      <th>props</th>\n",
       "    </tr>\n",
       "  </thead>\n",
       "  <tbody>\n",
       "    <tr>\n",
       "      <th>0</th>\n",
       "      <td>Mary</td>\n",
       "      <td>F</td>\n",
       "      <td>7065</td>\n",
       "      <td>1880</td>\n",
       "      <td>0.077642</td>\n",
       "    </tr>\n",
       "    <tr>\n",
       "      <th>1</th>\n",
       "      <td>Anna</td>\n",
       "      <td>F</td>\n",
       "      <td>2604</td>\n",
       "      <td>1880</td>\n",
       "      <td>0.028617</td>\n",
       "    </tr>\n",
       "    <tr>\n",
       "      <th>2</th>\n",
       "      <td>Emma</td>\n",
       "      <td>F</td>\n",
       "      <td>2003</td>\n",
       "      <td>1880</td>\n",
       "      <td>0.022012</td>\n",
       "    </tr>\n",
       "    <tr>\n",
       "      <th>3</th>\n",
       "      <td>Elizabeth</td>\n",
       "      <td>F</td>\n",
       "      <td>1939</td>\n",
       "      <td>1880</td>\n",
       "      <td>0.021309</td>\n",
       "    </tr>\n",
       "    <tr>\n",
       "      <th>4</th>\n",
       "      <td>Minnie</td>\n",
       "      <td>F</td>\n",
       "      <td>1746</td>\n",
       "      <td>1880</td>\n",
       "      <td>0.019188</td>\n",
       "    </tr>\n",
       "  </tbody>\n",
       "</table>\n",
       "</div>"
      ],
      "text/plain": [
       "        name sex  births  year     props\n",
       "0       Mary   F    7065  1880  0.077642\n",
       "1       Anna   F    2604  1880  0.028617\n",
       "2       Emma   F    2003  1880  0.022012\n",
       "3  Elizabeth   F    1939  1880  0.021309\n",
       "4     Minnie   F    1746  1880  0.019188"
      ]
     },
     "execution_count": 12,
     "metadata": {},
     "output_type": "execute_result"
    }
   ],
   "source": [
    "top1000.head()"
   ]
  },
  {
   "cell_type": "markdown",
   "id": "adc55ad0",
   "metadata": {},
   "source": [
    "given the top 1000 names, we can analyse various naming trends of interest. First we can split the group into boys and girls."
   ]
  },
  {
   "cell_type": "code",
   "execution_count": 13,
   "id": "7acf03ba",
   "metadata": {},
   "outputs": [],
   "source": [
    "boys = top1000[top1000[\"sex\"] == \"M\"]\n",
    "girls = top1000[top1000[\"sex\"] == \"F\"]"
   ]
  },
  {
   "cell_type": "markdown",
   "id": "2bcf9600",
   "metadata": {},
   "source": [
    "Simple time series, like the number of Johns or Marys for each year, can be plotted\n",
    "but require some manipulation to be more useful. Im particularly intrested in the trend of pupular athletes names like Michael Jordan and Lebron James"
   ]
  },
  {
   "cell_type": "code",
   "execution_count": 14,
   "id": "28c13b24",
   "metadata": {},
   "outputs": [],
   "source": [
    "total_births = top1000.groupby([\"year\",\"name\"])[\"births\"].sum().unstack(\"name\")"
   ]
  },
  {
   "cell_type": "code",
   "execution_count": 15,
   "id": "b0b29c77",
   "metadata": {},
   "outputs": [
    {
     "name": "stdout",
     "output_type": "stream",
     "text": [
      "<class 'pandas.core.frame.DataFrame'>\n",
      "Index: 144 entries, 1880 to 2023\n",
      "Columns: 7351 entries, Aaden to Zyon\n",
      "dtypes: float64(7351)\n",
      "memory usage: 8.1 MB\n"
     ]
    }
   ],
   "source": [
    "total_births.info()"
   ]
  },
  {
   "cell_type": "code",
   "execution_count": 16,
   "id": "3534b155",
   "metadata": {
    "scrolled": true
   },
   "outputs": [
    {
     "data": {
      "text/plain": [
       "array([<AxesSubplot:xlabel='year'>, <AxesSubplot:xlabel='year'>,\n",
       "       <AxesSubplot:xlabel='year'>, <AxesSubplot:xlabel='year'>],\n",
       "      dtype=object)"
      ]
     },
     "execution_count": 16,
     "metadata": {},
     "output_type": "execute_result"
    },
    {
     "data": {
      "image/png": "[encoded data removed]",
      "text/plain": [
       "<Figure size 1200x1000 with 4 Axes>"
      ]
     },
     "metadata": {},
     "output_type": "display_data"
    }
   ],
   "source": [
    "subset = total_births[[\"John\", \"James\", \"George\", \"Mary\"]]\n",
    "\n",
    "subset.plot(subplots=True, figsize=(12, 10), title=\"Number of births per year\")"
   ]
  },
  {
   "cell_type": "markdown",
   "id": "a78bb427",
   "metadata": {},
   "source": [
    "One explanation for the decrease in plots is that fewer parents are choosing common\n",
    "names for their children. This hypothesis can be explored and confirmed in the data."
   ]
  },
  {
   "cell_type": "code",
   "execution_count": 17,
   "id": "d72de8e9",
   "metadata": {},
   "outputs": [],
   "source": [
    "table = top1000.groupby([\"year\", \"sex\"])[\"props\"].sum().unstack(\"sex\")"
   ]
  },
  {
   "cell_type": "code",
   "execution_count": 18,
   "id": "fac454d0",
   "metadata": {},
   "outputs": [
    {
     "data": {
      "text/plain": [
       "<AxesSubplot:title={'center':'Sum of table1000.prop by year and sex'}, xlabel='year'>"
      ]
     },
     "execution_count": 18,
     "metadata": {},
     "output_type": "execute_result"
    },
    {
     "data": {
      "image/png": "[encoded data removed]",
      "text/plain": [
       "<Figure size 640x480 with 1 Axes>"
      ]
     },
     "metadata": {},
     "output_type": "display_data"
    }
   ],
   "source": [
    "table.plot(title=\"Sum of table1000.prop by year and sex\", yticks=np.linspace(0, 1.2, 13))"
   ]
  },
  {
   "cell_type": "markdown",
   "id": "4c34525b",
   "metadata": {},
   "source": [
    "there appears to be increasing name diversity (decreasing\n",
    "total proportion in the top one thousand)."
   ]
  },
  {
   "cell_type": "markdown",
   "id": "c9e77120",
   "metadata": {},
   "source": [
    "Another interesting metric is the number\n",
    "of distinct names, taken in order of popularity from highest to lowest, in the top 50%\n",
    "of births. This number is trickier to compute. Let’s consider just the boy names from\n",
    "2021"
   ]
  },
  {
   "cell_type": "code",
   "execution_count": 19,
   "id": "daa1abae",
   "metadata": {},
   "outputs": [
    {
     "data": {
      "text/html": [
       "<div>\n",
       "<style scoped>\n",
       "    .dataframe tbody tr th:only-of-type {\n",
       "        vertical-align: middle;\n",
       "    }\n",
       "\n",
       "    .dataframe tbody tr th {\n",
       "        vertical-align: top;\n",
       "    }\n",
       "\n",
       "    .dataframe thead th {\n",
       "        text-align: right;\n",
       "    }\n",
       "</style>\n",
       "<table border=\"1\" class=\"dataframe\">\n",
       "  <thead>\n",
       "    <tr style=\"text-align: right;\">\n",
       "      <th></th>\n",
       "      <th>name</th>\n",
       "      <th>sex</th>\n",
       "      <th>births</th>\n",
       "      <th>year</th>\n",
       "      <th>props</th>\n",
       "    </tr>\n",
       "  </thead>\n",
       "  <tbody>\n",
       "    <tr>\n",
       "      <th>282876</th>\n",
       "      <td>Liam</td>\n",
       "      <td>M</td>\n",
       "      <td>20391</td>\n",
       "      <td>2021</td>\n",
       "      <td>0.011675</td>\n",
       "    </tr>\n",
       "    <tr>\n",
       "      <th>282877</th>\n",
       "      <td>Noah</td>\n",
       "      <td>M</td>\n",
       "      <td>18884</td>\n",
       "      <td>2021</td>\n",
       "      <td>0.010812</td>\n",
       "    </tr>\n",
       "    <tr>\n",
       "      <th>282878</th>\n",
       "      <td>Oliver</td>\n",
       "      <td>M</td>\n",
       "      <td>14696</td>\n",
       "      <td>2021</td>\n",
       "      <td>0.008415</td>\n",
       "    </tr>\n",
       "    <tr>\n",
       "      <th>282879</th>\n",
       "      <td>Elijah</td>\n",
       "      <td>M</td>\n",
       "      <td>12807</td>\n",
       "      <td>2021</td>\n",
       "      <td>0.007333</td>\n",
       "    </tr>\n",
       "    <tr>\n",
       "      <th>282880</th>\n",
       "      <td>James</td>\n",
       "      <td>M</td>\n",
       "      <td>12452</td>\n",
       "      <td>2021</td>\n",
       "      <td>0.007130</td>\n",
       "    </tr>\n",
       "    <tr>\n",
       "      <th>...</th>\n",
       "      <td>...</td>\n",
       "      <td>...</td>\n",
       "      <td>...</td>\n",
       "      <td>...</td>\n",
       "      <td>...</td>\n",
       "    </tr>\n",
       "    <tr>\n",
       "      <th>283871</th>\n",
       "      <td>Benedict</td>\n",
       "      <td>M</td>\n",
       "      <td>220</td>\n",
       "      <td>2021</td>\n",
       "      <td>0.000126</td>\n",
       "    </tr>\n",
       "    <tr>\n",
       "      <th>283872</th>\n",
       "      <td>Kacey</td>\n",
       "      <td>M</td>\n",
       "      <td>220</td>\n",
       "      <td>2021</td>\n",
       "      <td>0.000126</td>\n",
       "    </tr>\n",
       "    <tr>\n",
       "      <th>283873</th>\n",
       "      <td>Landry</td>\n",
       "      <td>M</td>\n",
       "      <td>220</td>\n",
       "      <td>2021</td>\n",
       "      <td>0.000126</td>\n",
       "    </tr>\n",
       "    <tr>\n",
       "      <th>283874</th>\n",
       "      <td>Maxton</td>\n",
       "      <td>M</td>\n",
       "      <td>220</td>\n",
       "      <td>2021</td>\n",
       "      <td>0.000126</td>\n",
       "    </tr>\n",
       "    <tr>\n",
       "      <th>283875</th>\n",
       "      <td>Mayson</td>\n",
       "      <td>M</td>\n",
       "      <td>218</td>\n",
       "      <td>2021</td>\n",
       "      <td>0.000125</td>\n",
       "    </tr>\n",
       "  </tbody>\n",
       "</table>\n",
       "<p>1000 rows × 5 columns</p>\n",
       "</div>"
      ],
      "text/plain": [
       "            name sex  births  year     props\n",
       "282876      Liam   M   20391  2021  0.011675\n",
       "282877      Noah   M   18884  2021  0.010812\n",
       "282878    Oliver   M   14696  2021  0.008415\n",
       "282879    Elijah   M   12807  2021  0.007333\n",
       "282880     James   M   12452  2021  0.007130\n",
       "...          ...  ..     ...   ...       ...\n",
       "283871  Benedict   M     220  2021  0.000126\n",
       "283872     Kacey   M     220  2021  0.000126\n",
       "283873    Landry   M     220  2021  0.000126\n",
       "283874    Maxton   M     220  2021  0.000126\n",
       "283875    Mayson   M     218  2021  0.000125\n",
       "\n",
       "[1000 rows x 5 columns]"
      ]
     },
     "execution_count": 19,
     "metadata": {},
     "output_type": "execute_result"
    }
   ],
   "source": [
    "df = boys[boys[\"year\"] == 2021]\n",
    "df"
   ]
  },
  {
   "cell_type": "markdown",
   "id": "0e35ff33",
   "metadata": {},
   "source": [
    "After sorting prop in descending order, I want to know how many of the most\n",
    "popular names it takes to reach 50%. A vectorized NumPy way is computationally efficient for this task. Taking the cumulative sum, cumsum, of prop and then calling the method searchsorted returns the position in the cumulative sum at which 0.5 would need to be inserted to keep it in sorted order"
   ]
  },
  {
   "cell_type": "code",
   "execution_count": 20,
   "id": "434be172",
   "metadata": {},
   "outputs": [],
   "source": [
    "prop_cumsum = df[\"props\"].sort_values(ascending=False).cumsum()"
   ]
  },
  {
   "cell_type": "code",
   "execution_count": 21,
   "id": "ccee0efe",
   "metadata": {},
   "outputs": [
    {
     "data": {
      "text/plain": [
       "282876    0.011675\n",
       "282877    0.022488\n",
       "282878    0.030902\n",
       "282879    0.038235\n",
       "282880    0.045365\n",
       "282881    0.052327\n",
       "282882    0.059125\n",
       "282883    0.065754\n",
       "282884    0.072260\n",
       "282885    0.077750\n",
       "Name: props, dtype: float64"
      ]
     },
     "execution_count": 21,
     "metadata": {},
     "output_type": "execute_result"
    }
   ],
   "source": [
    "prop_cumsum[:10]"
   ]
  },
  {
   "cell_type": "code",
   "execution_count": 22,
   "id": "0ab3e735",
   "metadata": {},
   "outputs": [
    {
     "data": {
      "text/plain": [
       "166"
      ]
     },
     "execution_count": 22,
     "metadata": {},
     "output_type": "execute_result"
    }
   ],
   "source": [
    "prop_cumsum.searchsorted(0.5)"
   ]
  },
  {
   "cell_type": "markdown",
   "id": "fc6d16bb",
   "metadata": {},
   "source": [
    "Since arrays are zero-indexed, adding 1 to this result gives you a result of 167. By\n",
    "contrast, in 1950 this number was much smaller"
   ]
  },
  {
   "cell_type": "code",
   "execution_count": 23,
   "id": "4c6093fd",
   "metadata": {},
   "outputs": [
    {
     "data": {
      "text/html": [
       "<div>\n",
       "<style scoped>\n",
       "    .dataframe tbody tr th:only-of-type {\n",
       "        vertical-align: middle;\n",
       "    }\n",
       "\n",
       "    .dataframe tbody tr th {\n",
       "        vertical-align: top;\n",
       "    }\n",
       "\n",
       "    .dataframe thead th {\n",
       "        text-align: right;\n",
       "    }\n",
       "</style>\n",
       "<table border=\"1\" class=\"dataframe\">\n",
       "  <thead>\n",
       "    <tr style=\"text-align: right;\">\n",
       "      <th></th>\n",
       "      <th>name</th>\n",
       "      <th>sex</th>\n",
       "      <th>births</th>\n",
       "      <th>year</th>\n",
       "      <th>props</th>\n",
       "    </tr>\n",
       "  </thead>\n",
       "  <tbody>\n",
       "    <tr>\n",
       "      <th>140876</th>\n",
       "      <td>James</td>\n",
       "      <td>M</td>\n",
       "      <td>86225</td>\n",
       "      <td>1950</td>\n",
       "      <td>0.048162</td>\n",
       "    </tr>\n",
       "    <tr>\n",
       "      <th>140877</th>\n",
       "      <td>Robert</td>\n",
       "      <td>M</td>\n",
       "      <td>83545</td>\n",
       "      <td>1950</td>\n",
       "      <td>0.046665</td>\n",
       "    </tr>\n",
       "    <tr>\n",
       "      <th>140878</th>\n",
       "      <td>John</td>\n",
       "      <td>M</td>\n",
       "      <td>79415</td>\n",
       "      <td>1950</td>\n",
       "      <td>0.044358</td>\n",
       "    </tr>\n",
       "    <tr>\n",
       "      <th>140879</th>\n",
       "      <td>Michael</td>\n",
       "      <td>M</td>\n",
       "      <td>65137</td>\n",
       "      <td>1950</td>\n",
       "      <td>0.036383</td>\n",
       "    </tr>\n",
       "    <tr>\n",
       "      <th>140880</th>\n",
       "      <td>David</td>\n",
       "      <td>M</td>\n",
       "      <td>60728</td>\n",
       "      <td>1950</td>\n",
       "      <td>0.033920</td>\n",
       "    </tr>\n",
       "    <tr>\n",
       "      <th>...</th>\n",
       "      <td>...</td>\n",
       "      <td>...</td>\n",
       "      <td>...</td>\n",
       "      <td>...</td>\n",
       "      <td>...</td>\n",
       "    </tr>\n",
       "    <tr>\n",
       "      <th>141871</th>\n",
       "      <td>Lenny</td>\n",
       "      <td>M</td>\n",
       "      <td>49</td>\n",
       "      <td>1950</td>\n",
       "      <td>0.000027</td>\n",
       "    </tr>\n",
       "    <tr>\n",
       "      <th>141872</th>\n",
       "      <td>Leander</td>\n",
       "      <td>M</td>\n",
       "      <td>49</td>\n",
       "      <td>1950</td>\n",
       "      <td>0.000027</td>\n",
       "    </tr>\n",
       "    <tr>\n",
       "      <th>141873</th>\n",
       "      <td>Lawson</td>\n",
       "      <td>M</td>\n",
       "      <td>49</td>\n",
       "      <td>1950</td>\n",
       "      <td>0.000027</td>\n",
       "    </tr>\n",
       "    <tr>\n",
       "      <th>141874</th>\n",
       "      <td>Jerrell</td>\n",
       "      <td>M</td>\n",
       "      <td>49</td>\n",
       "      <td>1950</td>\n",
       "      <td>0.000027</td>\n",
       "    </tr>\n",
       "    <tr>\n",
       "      <th>141875</th>\n",
       "      <td>Hunter</td>\n",
       "      <td>M</td>\n",
       "      <td>49</td>\n",
       "      <td>1950</td>\n",
       "      <td>0.000027</td>\n",
       "    </tr>\n",
       "  </tbody>\n",
       "</table>\n",
       "<p>1000 rows × 5 columns</p>\n",
       "</div>"
      ],
      "text/plain": [
       "           name sex  births  year     props\n",
       "140876    James   M   86225  1950  0.048162\n",
       "140877   Robert   M   83545  1950  0.046665\n",
       "140878     John   M   79415  1950  0.044358\n",
       "140879  Michael   M   65137  1950  0.036383\n",
       "140880    David   M   60728  1950  0.033920\n",
       "...         ...  ..     ...   ...       ...\n",
       "141871    Lenny   M      49  1950  0.000027\n",
       "141872  Leander   M      49  1950  0.000027\n",
       "141873   Lawson   M      49  1950  0.000027\n",
       "141874  Jerrell   M      49  1950  0.000027\n",
       "141875   Hunter   M      49  1950  0.000027\n",
       "\n",
       "[1000 rows x 5 columns]"
      ]
     },
     "execution_count": 23,
     "metadata": {},
     "output_type": "execute_result"
    }
   ],
   "source": [
    "df = boys[boys[\"year\"] == 1950]\n",
    "df"
   ]
  },
  {
   "cell_type": "code",
   "execution_count": 24,
   "id": "e4c9eca4",
   "metadata": {},
   "outputs": [],
   "source": [
    "in1950 = df[\"props\"].sort_values(ascending=False).cumsum()"
   ]
  },
  {
   "cell_type": "code",
   "execution_count": 25,
   "id": "75371c85",
   "metadata": {},
   "outputs": [
    {
     "data": {
      "text/plain": [
       "23"
      ]
     },
     "execution_count": 25,
     "metadata": {},
     "output_type": "execute_result"
    }
   ],
   "source": [
    "in1950.searchsorted(0.5) + 1"
   ]
  },
  {
   "cell_type": "markdown",
   "id": "728baf14",
   "metadata": {},
   "source": [
    "I can now apply this operation to each year/sex combination, groupby those fields, and apply a function returning the count for each group"
   ]
  },
  {
   "cell_type": "code",
   "execution_count": 26,
   "id": "b285db0d",
   "metadata": {},
   "outputs": [],
   "source": [
    "def get_quantile_count(group, q=0.5):\n",
    "    group = group[\"props\"].sort_values(ascending=False)\n",
    "    return group.cumsum().searchsorted(q) + 1\n"
   ]
  },
  {
   "cell_type": "code",
   "execution_count": 27,
   "id": "dcb36a97",
   "metadata": {},
   "outputs": [],
   "source": [
    "diversity = top1000.groupby([\"year\", \"sex\"]).apply(get_quantile_count).unstack(\"sex\")"
   ]
  },
  {
   "cell_type": "code",
   "execution_count": 28,
   "id": "2becb434",
   "metadata": {},
   "outputs": [
    {
     "data": {
      "text/html": [
       "<div>\n",
       "<style scoped>\n",
       "    .dataframe tbody tr th:only-of-type {\n",
       "        vertical-align: middle;\n",
       "    }\n",
       "\n",
       "    .dataframe tbody tr th {\n",
       "        vertical-align: top;\n",
       "    }\n",
       "\n",
       "    .dataframe thead th {\n",
       "        text-align: right;\n",
       "    }\n",
       "</style>\n",
       "<table border=\"1\" class=\"dataframe\">\n",
       "  <thead>\n",
       "    <tr style=\"text-align: right;\">\n",
       "      <th>sex</th>\n",
       "      <th>F</th>\n",
       "      <th>M</th>\n",
       "    </tr>\n",
       "    <tr>\n",
       "      <th>year</th>\n",
       "      <th></th>\n",
       "      <th></th>\n",
       "    </tr>\n",
       "  </thead>\n",
       "  <tbody>\n",
       "    <tr>\n",
       "      <th>1880</th>\n",
       "      <td>38</td>\n",
       "      <td>14</td>\n",
       "    </tr>\n",
       "    <tr>\n",
       "      <th>1881</th>\n",
       "      <td>38</td>\n",
       "      <td>14</td>\n",
       "    </tr>\n",
       "    <tr>\n",
       "      <th>1882</th>\n",
       "      <td>38</td>\n",
       "      <td>15</td>\n",
       "    </tr>\n",
       "    <tr>\n",
       "      <th>1883</th>\n",
       "      <td>39</td>\n",
       "      <td>15</td>\n",
       "    </tr>\n",
       "    <tr>\n",
       "      <th>1884</th>\n",
       "      <td>39</td>\n",
       "      <td>16</td>\n",
       "    </tr>\n",
       "  </tbody>\n",
       "</table>\n",
       "</div>"
      ],
      "text/plain": [
       "sex    F   M\n",
       "year        \n",
       "1880  38  14\n",
       "1881  38  14\n",
       "1882  38  15\n",
       "1883  39  15\n",
       "1884  39  16"
      ]
     },
     "execution_count": 28,
     "metadata": {},
     "output_type": "execute_result"
    }
   ],
   "source": [
    "diversity.head()"
   ]
  },
  {
   "cell_type": "code",
   "execution_count": 29,
   "id": "b316af3c",
   "metadata": {},
   "outputs": [
    {
     "data": {
      "text/plain": [
       "<AxesSubplot:title={'center':'Number of popular names in top 50%'}, xlabel='year'>"
      ]
     },
     "execution_count": 29,
     "metadata": {},
     "output_type": "execute_result"
    },
    {
     "data": {
      "image/png": "[encoded data removed]",
      "text/plain": [
       "<Figure size 640x480 with 1 Axes>"
      ]
     },
     "metadata": {},
     "output_type": "display_data"
    }
   ],
   "source": [
    "diversity.plot(title=\"Number of popular names in top 50%\")"
   ]
  },
  {
   "cell_type": "markdown",
   "id": "2c5ec873",
   "metadata": {},
   "source": [
    "Girl names have always been more diverse than boy names, and they have only become more so over time."
   ]
  },
  {
   "cell_type": "markdown",
   "id": "e61bbc78",
   "metadata": {},
   "source": [
    "I want to find out the distribution of boys names that start with vowels over the period"
   ]
  },
  {
   "cell_type": "code",
   "execution_count": 30,
   "id": "8098347c",
   "metadata": {},
   "outputs": [],
   "source": [
    "def get_first_letter(x):\n",
    "    return x[0]\n",
    "\n",
    "first_letters = names[\"name\"].map(get_first_letter)"
   ]
  },
  {
   "cell_type": "code",
   "execution_count": 31,
   "id": "5454a425",
   "metadata": {},
   "outputs": [],
   "source": [
    "first_letters.name = \"first_letter\""
   ]
  },
  {
   "cell_type": "code",
   "execution_count": 32,
   "id": "49bd9db0",
   "metadata": {},
   "outputs": [],
   "source": [
    "table = names.pivot_table(\"births\", index=first_letters, columns=[\"sex\", \"year\"], aggfunc=sum)"
   ]
  },
  {
   "cell_type": "code",
   "execution_count": 33,
   "id": "72d57055",
   "metadata": {},
   "outputs": [],
   "source": [
    "#select 3 representative years \n",
    "subtable = table.reindex(columns=[1910, 1985, 2022], level=\"year\")"
   ]
  },
  {
   "cell_type": "code",
   "execution_count": 34,
   "id": "d0967b58",
   "metadata": {},
   "outputs": [
    {
     "data": {
      "text/html": [
       "<div>\n",
       "<style scoped>\n",
       "    .dataframe tbody tr th:only-of-type {\n",
       "        vertical-align: middle;\n",
       "    }\n",
       "\n",
       "    .dataframe tbody tr th {\n",
       "        vertical-align: top;\n",
       "    }\n",
       "\n",
       "    .dataframe thead tr th {\n",
       "        text-align: left;\n",
       "    }\n",
       "\n",
       "    .dataframe thead tr:last-of-type th {\n",
       "        text-align: right;\n",
       "    }\n",
       "</style>\n",
       "<table border=\"1\" class=\"dataframe\">\n",
       "  <thead>\n",
       "    <tr>\n",
       "      <th>sex</th>\n",
       "      <th colspan=\"3\" halign=\"left\">F</th>\n",
       "      <th colspan=\"3\" halign=\"left\">M</th>\n",
       "    </tr>\n",
       "    <tr>\n",
       "      <th>year</th>\n",
       "      <th>1910</th>\n",
       "      <th>1985</th>\n",
       "      <th>2022</th>\n",
       "      <th>1910</th>\n",
       "      <th>1985</th>\n",
       "      <th>2022</th>\n",
       "    </tr>\n",
       "    <tr>\n",
       "      <th>first_letter</th>\n",
       "      <th></th>\n",
       "      <th></th>\n",
       "      <th></th>\n",
       "      <th></th>\n",
       "      <th></th>\n",
       "      <th></th>\n",
       "    </tr>\n",
       "  </thead>\n",
       "  <tbody>\n",
       "    <tr>\n",
       "      <th>A</th>\n",
       "      <td>34095.0</td>\n",
       "      <td>242556.0</td>\n",
       "      <td>269046.0</td>\n",
       "      <td>12706.0</td>\n",
       "      <td>149177.0</td>\n",
       "      <td>181918.0</td>\n",
       "    </tr>\n",
       "    <tr>\n",
       "      <th>B</th>\n",
       "      <td>17125.0</td>\n",
       "      <td>64030.0</td>\n",
       "      <td>47942.0</td>\n",
       "      <td>4325.0</td>\n",
       "      <td>120335.0</td>\n",
       "      <td>82710.0</td>\n",
       "    </tr>\n",
       "    <tr>\n",
       "      <th>C</th>\n",
       "      <td>18292.0</td>\n",
       "      <td>149742.0</td>\n",
       "      <td>91818.0</td>\n",
       "      <td>15206.0</td>\n",
       "      <td>153095.0</td>\n",
       "      <td>122096.0</td>\n",
       "    </tr>\n",
       "    <tr>\n",
       "      <th>D</th>\n",
       "      <td>14533.0</td>\n",
       "      <td>63984.0</td>\n",
       "      <td>41701.0</td>\n",
       "      <td>5251.0</td>\n",
       "      <td>158918.0</td>\n",
       "      <td>84530.0</td>\n",
       "    </tr>\n",
       "    <tr>\n",
       "      <th>E</th>\n",
       "      <td>45998.0</td>\n",
       "      <td>80676.0</td>\n",
       "      <td>154971.0</td>\n",
       "      <td>13308.0</td>\n",
       "      <td>56046.0</td>\n",
       "      <td>110513.0</td>\n",
       "    </tr>\n",
       "  </tbody>\n",
       "</table>\n",
       "</div>"
      ],
      "text/plain": [
       "sex                 F                            M                    \n",
       "year             1910      1985      2022     1910      1985      2022\n",
       "first_letter                                                          \n",
       "A             34095.0  242556.0  269046.0  12706.0  149177.0  181918.0\n",
       "B             17125.0   64030.0   47942.0   4325.0  120335.0   82710.0\n",
       "C             18292.0  149742.0   91818.0  15206.0  153095.0  122096.0\n",
       "D             14533.0   63984.0   41701.0   5251.0  158918.0   84530.0\n",
       "E             45998.0   80676.0  154971.0  13308.0   56046.0  110513.0"
      ]
     },
     "execution_count": 34,
     "metadata": {},
     "output_type": "execute_result"
    }
   ],
   "source": [
    "subtable.head()"
   ]
  },
  {
   "cell_type": "code",
   "execution_count": 35,
   "id": "fbb8265a",
   "metadata": {},
   "outputs": [
    {
     "data": {
      "text/plain": [
       "sex  year\n",
       "F    1910     396503.0\n",
       "     1985    1720774.0\n",
       "     2022    1636657.0\n",
       "M    1910     194208.0\n",
       "     1985    1848201.0\n",
       "     2022    1741954.0\n",
       "dtype: float64"
      ]
     },
     "execution_count": 35,
     "metadata": {},
     "output_type": "execute_result"
    }
   ],
   "source": [
    "subtable.sum()"
   ]
  },
  {
   "cell_type": "markdown",
   "id": "cce7decf",
   "metadata": {},
   "source": [
    "normalize the table by total births to compute a new table containing the\n",
    "proportion of total births for each sex ending in each letter"
   ]
  },
  {
   "cell_type": "code",
   "execution_count": 36,
   "id": "d9057cb7",
   "metadata": {},
   "outputs": [],
   "source": [
    "letter_prop = subtable / subtable.sum()"
   ]
  },
  {
   "cell_type": "code",
   "execution_count": 37,
   "id": "5774f6c3",
   "metadata": {},
   "outputs": [
    {
     "data": {
      "text/html": [
       "<div>\n",
       "<style scoped>\n",
       "    .dataframe tbody tr th:only-of-type {\n",
       "        vertical-align: middle;\n",
       "    }\n",
       "\n",
       "    .dataframe tbody tr th {\n",
       "        vertical-align: top;\n",
       "    }\n",
       "\n",
       "    .dataframe thead tr th {\n",
       "        text-align: left;\n",
       "    }\n",
       "\n",
       "    .dataframe thead tr:last-of-type th {\n",
       "        text-align: right;\n",
       "    }\n",
       "</style>\n",
       "<table border=\"1\" class=\"dataframe\">\n",
       "  <thead>\n",
       "    <tr>\n",
       "      <th>sex</th>\n",
       "      <th colspan=\"3\" halign=\"left\">F</th>\n",
       "      <th colspan=\"3\" halign=\"left\">M</th>\n",
       "    </tr>\n",
       "    <tr>\n",
       "      <th>year</th>\n",
       "      <th>1910</th>\n",
       "      <th>1985</th>\n",
       "      <th>2022</th>\n",
       "      <th>1910</th>\n",
       "      <th>1985</th>\n",
       "      <th>2022</th>\n",
       "    </tr>\n",
       "    <tr>\n",
       "      <th>first_letter</th>\n",
       "      <th></th>\n",
       "      <th></th>\n",
       "      <th></th>\n",
       "      <th></th>\n",
       "      <th></th>\n",
       "      <th></th>\n",
       "    </tr>\n",
       "  </thead>\n",
       "  <tbody>\n",
       "    <tr>\n",
       "      <th>A</th>\n",
       "      <td>0.085989</td>\n",
       "      <td>0.140957</td>\n",
       "      <td>0.164388</td>\n",
       "      <td>0.065425</td>\n",
       "      <td>0.080715</td>\n",
       "      <td>0.104433</td>\n",
       "    </tr>\n",
       "    <tr>\n",
       "      <th>B</th>\n",
       "      <td>0.043190</td>\n",
       "      <td>0.037210</td>\n",
       "      <td>0.029293</td>\n",
       "      <td>0.022270</td>\n",
       "      <td>0.065109</td>\n",
       "      <td>0.047481</td>\n",
       "    </tr>\n",
       "    <tr>\n",
       "      <th>C</th>\n",
       "      <td>0.046133</td>\n",
       "      <td>0.087020</td>\n",
       "      <td>0.056101</td>\n",
       "      <td>0.078297</td>\n",
       "      <td>0.082835</td>\n",
       "      <td>0.070091</td>\n",
       "    </tr>\n",
       "    <tr>\n",
       "      <th>D</th>\n",
       "      <td>0.036653</td>\n",
       "      <td>0.037183</td>\n",
       "      <td>0.025479</td>\n",
       "      <td>0.027038</td>\n",
       "      <td>0.085985</td>\n",
       "      <td>0.048526</td>\n",
       "    </tr>\n",
       "    <tr>\n",
       "      <th>E</th>\n",
       "      <td>0.116009</td>\n",
       "      <td>0.046884</td>\n",
       "      <td>0.094688</td>\n",
       "      <td>0.068524</td>\n",
       "      <td>0.030325</td>\n",
       "      <td>0.063442</td>\n",
       "    </tr>\n",
       "    <tr>\n",
       "      <th>F</th>\n",
       "      <td>0.036895</td>\n",
       "      <td>0.005194</td>\n",
       "      <td>0.010455</td>\n",
       "      <td>0.046703</td>\n",
       "      <td>0.008482</td>\n",
       "      <td>0.011888</td>\n",
       "    </tr>\n",
       "    <tr>\n",
       "      <th>G</th>\n",
       "      <td>0.040993</td>\n",
       "      <td>0.008532</td>\n",
       "      <td>0.025506</td>\n",
       "      <td>0.044494</td>\n",
       "      <td>0.021888</td>\n",
       "      <td>0.029714</td>\n",
       "    </tr>\n",
       "    <tr>\n",
       "      <th>H</th>\n",
       "      <td>0.048897</td>\n",
       "      <td>0.024375</td>\n",
       "      <td>0.033814</td>\n",
       "      <td>0.065971</td>\n",
       "      <td>0.007096</td>\n",
       "      <td>0.028858</td>\n",
       "    </tr>\n",
       "    <tr>\n",
       "      <th>I</th>\n",
       "      <td>0.026285</td>\n",
       "      <td>0.003497</td>\n",
       "      <td>0.028297</td>\n",
       "      <td>0.008105</td>\n",
       "      <td>0.005681</td>\n",
       "      <td>0.018676</td>\n",
       "    </tr>\n",
       "    <tr>\n",
       "      <th>J</th>\n",
       "      <td>0.040229</td>\n",
       "      <td>0.110945</td>\n",
       "      <td>0.044032</td>\n",
       "      <td>0.179488</td>\n",
       "      <td>0.195852</td>\n",
       "      <td>0.113001</td>\n",
       "    </tr>\n",
       "    <tr>\n",
       "      <th>K</th>\n",
       "      <td>0.012807</td>\n",
       "      <td>0.092927</td>\n",
       "      <td>0.053104</td>\n",
       "      <td>0.006977</td>\n",
       "      <td>0.038101</td>\n",
       "      <td>0.054732</td>\n",
       "    </tr>\n",
       "    <tr>\n",
       "      <th>L</th>\n",
       "      <td>0.084711</td>\n",
       "      <td>0.069228</td>\n",
       "      <td>0.072495</td>\n",
       "      <td>0.056506</td>\n",
       "      <td>0.020258</td>\n",
       "      <td>0.076380</td>\n",
       "    </tr>\n",
       "    <tr>\n",
       "      <th>M</th>\n",
       "      <td>0.183618</td>\n",
       "      <td>0.090855</td>\n",
       "      <td>0.090272</td>\n",
       "      <td>0.038587</td>\n",
       "      <td>0.093304</td>\n",
       "      <td>0.074427</td>\n",
       "    </tr>\n",
       "    <tr>\n",
       "      <th>N</th>\n",
       "      <td>0.019611</td>\n",
       "      <td>0.031172</td>\n",
       "      <td>0.036520</td>\n",
       "      <td>0.011580</td>\n",
       "      <td>0.026347</td>\n",
       "      <td>0.032426</td>\n",
       "    </tr>\n",
       "    <tr>\n",
       "      <th>O</th>\n",
       "      <td>0.014361</td>\n",
       "      <td>0.001362</td>\n",
       "      <td>0.018771</td>\n",
       "      <td>0.014078</td>\n",
       "      <td>0.003387</td>\n",
       "      <td>0.023406</td>\n",
       "    </tr>\n",
       "    <tr>\n",
       "      <th>P</th>\n",
       "      <td>0.017682</td>\n",
       "      <td>0.009859</td>\n",
       "      <td>0.022464</td>\n",
       "      <td>0.024216</td>\n",
       "      <td>0.022958</td>\n",
       "      <td>0.013347</td>\n",
       "    </tr>\n",
       "    <tr>\n",
       "      <th>Q</th>\n",
       "      <td>0.000346</td>\n",
       "      <td>0.000436</td>\n",
       "      <td>0.002468</td>\n",
       "      <td>0.000221</td>\n",
       "      <td>0.001297</td>\n",
       "      <td>0.001663</td>\n",
       "    </tr>\n",
       "    <tr>\n",
       "      <th>R</th>\n",
       "      <td>0.054794</td>\n",
       "      <td>0.038658</td>\n",
       "      <td>0.045611</td>\n",
       "      <td>0.081171</td>\n",
       "      <td>0.072863</td>\n",
       "      <td>0.047427</td>\n",
       "    </tr>\n",
       "    <tr>\n",
       "      <th>S</th>\n",
       "      <td>0.029097</td>\n",
       "      <td>0.093611</td>\n",
       "      <td>0.073246</td>\n",
       "      <td>0.029726</td>\n",
       "      <td>0.052599</td>\n",
       "      <td>0.042482</td>\n",
       "    </tr>\n",
       "    <tr>\n",
       "      <th>T</th>\n",
       "      <td>0.014093</td>\n",
       "      <td>0.046107</td>\n",
       "      <td>0.014456</td>\n",
       "      <td>0.028341</td>\n",
       "      <td>0.049879</td>\n",
       "      <td>0.035298</td>\n",
       "    </tr>\n",
       "    <tr>\n",
       "      <th>U</th>\n",
       "      <td>0.000401</td>\n",
       "      <td>0.000156</td>\n",
       "      <td>0.000417</td>\n",
       "      <td>0.000438</td>\n",
       "      <td>0.000327</td>\n",
       "      <td>0.001530</td>\n",
       "    </tr>\n",
       "    <tr>\n",
       "      <th>V</th>\n",
       "      <td>0.033152</td>\n",
       "      <td>0.015778</td>\n",
       "      <td>0.021346</td>\n",
       "      <td>0.009263</td>\n",
       "      <td>0.005149</td>\n",
       "      <td>0.006446</td>\n",
       "    </tr>\n",
       "    <tr>\n",
       "      <th>W</th>\n",
       "      <td>0.010641</td>\n",
       "      <td>0.004098</td>\n",
       "      <td>0.009935</td>\n",
       "      <td>0.092169</td>\n",
       "      <td>0.020726</td>\n",
       "      <td>0.029026</td>\n",
       "    </tr>\n",
       "    <tr>\n",
       "      <th>X</th>\n",
       "      <td>NaN</td>\n",
       "      <td>0.000170</td>\n",
       "      <td>0.003050</td>\n",
       "      <td>NaN</td>\n",
       "      <td>0.000366</td>\n",
       "      <td>0.004095</td>\n",
       "    </tr>\n",
       "    <tr>\n",
       "      <th>Y</th>\n",
       "      <td>0.000744</td>\n",
       "      <td>0.003065</td>\n",
       "      <td>0.005612</td>\n",
       "      <td>0.000103</td>\n",
       "      <td>0.000649</td>\n",
       "      <td>0.005250</td>\n",
       "    </tr>\n",
       "    <tr>\n",
       "      <th>Z</th>\n",
       "      <td>0.002668</td>\n",
       "      <td>0.000719</td>\n",
       "      <td>0.018182</td>\n",
       "      <td>0.000309</td>\n",
       "      <td>0.007822</td>\n",
       "      <td>0.015954</td>\n",
       "    </tr>\n",
       "  </tbody>\n",
       "</table>\n",
       "</div>"
      ],
      "text/plain": [
       "sex                  F                             M                    \n",
       "year              1910      1985      2022      1910      1985      2022\n",
       "first_letter                                                            \n",
       "A             0.085989  0.140957  0.164388  0.065425  0.080715  0.104433\n",
       "B             0.043190  0.037210  0.029293  0.022270  0.065109  0.047481\n",
       "C             0.046133  0.087020  0.056101  0.078297  0.082835  0.070091\n",
       "D             0.036653  0.037183  0.025479  0.027038  0.085985  0.048526\n",
       "E             0.116009  0.046884  0.094688  0.068524  0.030325  0.063442\n",
       "F             0.036895  0.005194  0.010455  0.046703  0.008482  0.011888\n",
       "G             0.040993  0.008532  0.025506  0.044494  0.021888  0.029714\n",
       "H             0.048897  0.024375  0.033814  0.065971  0.007096  0.028858\n",
       "I             0.026285  0.003497  0.028297  0.008105  0.005681  0.018676\n",
       "J             0.040229  0.110945  0.044032  0.179488  0.195852  0.113001\n",
       "K             0.012807  0.092927  0.053104  0.006977  0.038101  0.054732\n",
       "L             0.084711  0.069228  0.072495  0.056506  0.020258  0.076380\n",
       "M             0.183618  0.090855  0.090272  0.038587  0.093304  0.074427\n",
       "N             0.019611  0.031172  0.036520  0.011580  0.026347  0.032426\n",
       "O             0.014361  0.001362  0.018771  0.014078  0.003387  0.023406\n",
       "P             0.017682  0.009859  0.022464  0.024216  0.022958  0.013347\n",
       "Q             0.000346  0.000436  0.002468  0.000221  0.001297  0.001663\n",
       "R             0.054794  0.038658  0.045611  0.081171  0.072863  0.047427\n",
       "S             0.029097  0.093611  0.073246  0.029726  0.052599  0.042482\n",
       "T             0.014093  0.046107  0.014456  0.028341  0.049879  0.035298\n",
       "U             0.000401  0.000156  0.000417  0.000438  0.000327  0.001530\n",
       "V             0.033152  0.015778  0.021346  0.009263  0.005149  0.006446\n",
       "W             0.010641  0.004098  0.009935  0.092169  0.020726  0.029026\n",
       "X                  NaN  0.000170  0.003050       NaN  0.000366  0.004095\n",
       "Y             0.000744  0.003065  0.005612  0.000103  0.000649  0.005250\n",
       "Z             0.002668  0.000719  0.018182  0.000309  0.007822  0.015954"
      ]
     },
     "execution_count": 37,
     "metadata": {},
     "output_type": "execute_result"
    }
   ],
   "source": [
    "letter_prop"
   ]
  },
  {
   "cell_type": "markdown",
   "id": "088403c5",
   "metadata": {},
   "source": [
    "With the letter proportions now in hand, we can make bar plots for each sex, broken down by year"
   ]
  },
  {
   "cell_type": "code",
   "execution_count": 38,
   "id": "f1b265df",
   "metadata": {},
   "outputs": [
    {
     "data": {
      "text/plain": [
       "<AxesSubplot:title={'center':'Female'}, xlabel='first_letter'>"
      ]
     },
     "execution_count": 38,
     "metadata": {},
     "output_type": "execute_result"
    },
    {
     "data": {
      "image/png": "[encoded data removed]",
      "text/plain": [
       "<Figure size 1000x800 with 2 Axes>"
      ]
     },
     "metadata": {},
     "output_type": "display_data"
    }
   ],
   "source": [
    "fix, axes = plt.subplots(2, 1, figsize=(10,8))\n",
    "letter_prop[\"M\"].plot(kind=\"bar\", rot=0, ax=axes[0], title=\"Male\")\n",
    "letter_prop[\"F\"].plot(kind=\"bar\", rot=0, ax=axes[1], title=\"Female\", legend=False)"
   ]
  },
  {
   "cell_type": "markdown",
   "id": "764bc005",
   "metadata": {},
   "source": [
    "Going back to the full table created before, I again normalize by year and\n",
    "sex and select a subset of letters for the boy names, finally transposing to make each column a time series"
   ]
  },
  {
   "cell_type": "code",
   "execution_count": 39,
   "id": "2f75a881",
   "metadata": {},
   "outputs": [],
   "source": [
    "letter_prop = table / table.sum()"
   ]
  },
  {
   "cell_type": "code",
   "execution_count": 40,
   "id": "dfe50b90",
   "metadata": {},
   "outputs": [],
   "source": [
    "dny_ts = letter_prop.loc[[\"J\", \"M\", \"A\"], \"M\"].T"
   ]
  },
  {
   "cell_type": "code",
   "execution_count": 41,
   "id": "a6884986",
   "metadata": {},
   "outputs": [
    {
     "data": {
      "text/html": [
       "<div>\n",
       "<style scoped>\n",
       "    .dataframe tbody tr th:only-of-type {\n",
       "        vertical-align: middle;\n",
       "    }\n",
       "\n",
       "    .dataframe tbody tr th {\n",
       "        vertical-align: top;\n",
       "    }\n",
       "\n",
       "    .dataframe thead th {\n",
       "        text-align: right;\n",
       "    }\n",
       "</style>\n",
       "<table border=\"1\" class=\"dataframe\">\n",
       "  <thead>\n",
       "    <tr style=\"text-align: right;\">\n",
       "      <th>first_letter</th>\n",
       "      <th>J</th>\n",
       "      <th>M</th>\n",
       "      <th>A</th>\n",
       "    </tr>\n",
       "    <tr>\n",
       "      <th>year</th>\n",
       "      <th></th>\n",
       "      <th></th>\n",
       "      <th></th>\n",
       "    </tr>\n",
       "  </thead>\n",
       "  <tbody>\n",
       "    <tr>\n",
       "      <th>1880</th>\n",
       "      <td>0.201575</td>\n",
       "      <td>0.028654</td>\n",
       "      <td>0.067029</td>\n",
       "    </tr>\n",
       "    <tr>\n",
       "      <th>1881</th>\n",
       "      <td>0.201618</td>\n",
       "      <td>0.026634</td>\n",
       "      <td>0.068020</td>\n",
       "    </tr>\n",
       "    <tr>\n",
       "      <th>1882</th>\n",
       "      <td>0.197201</td>\n",
       "      <td>0.027981</td>\n",
       "      <td>0.068513</td>\n",
       "    </tr>\n",
       "    <tr>\n",
       "      <th>1883</th>\n",
       "      <td>0.195231</td>\n",
       "      <td>0.028292</td>\n",
       "      <td>0.068808</td>\n",
       "    </tr>\n",
       "    <tr>\n",
       "      <th>1884</th>\n",
       "      <td>0.193758</td>\n",
       "      <td>0.027883</td>\n",
       "      <td>0.066182</td>\n",
       "    </tr>\n",
       "  </tbody>\n",
       "</table>\n",
       "</div>"
      ],
      "text/plain": [
       "first_letter         J         M         A\n",
       "year                                      \n",
       "1880          0.201575  0.028654  0.067029\n",
       "1881          0.201618  0.026634  0.068020\n",
       "1882          0.197201  0.027981  0.068513\n",
       "1883          0.195231  0.028292  0.068808\n",
       "1884          0.193758  0.027883  0.066182"
      ]
     },
     "execution_count": 41,
     "metadata": {},
     "output_type": "execute_result"
    }
   ],
   "source": [
    "dny_ts.head()"
   ]
  },
  {
   "cell_type": "code",
   "execution_count": 42,
   "id": "ee3b481c",
   "metadata": {},
   "outputs": [
    {
     "data": {
      "text/plain": [
       "<AxesSubplot:xlabel='year'>"
      ]
     },
     "execution_count": 42,
     "metadata": {},
     "output_type": "execute_result"
    },
    {
     "data": {
      "image/png": "[encoded data removed]",
      "text/plain": [
       "<Figure size 640x480 with 1 Axes>"
      ]
     },
     "metadata": {},
     "output_type": "display_data"
    }
   ],
   "source": [
    "dny_ts.plot()"
   ]
  },
  {
   "cell_type": "markdown",
   "id": "7a3fb5b3",
   "metadata": {},
   "source": [
    "Another fun trend is looking at names that were more popular with one gender\n",
    "earlier in the sample but have become preferred as a name for the other gender\n",
    "over time. One example is the name Lesley or Leslie. Going back to the top1000\n",
    "DataFrame, I compute a list of names occurring in the dataset starting with \"Lesl\""
   ]
  },
  {
   "cell_type": "code",
   "execution_count": 43,
   "id": "94f38793",
   "metadata": {},
   "outputs": [
    {
     "data": {
      "text/plain": [
       "632     Leslie\n",
       "2293    Lesley\n",
       "4263    Leslee\n",
       "4730     Lesli\n",
       "6102     Lesly\n",
       "dtype: object"
      ]
     },
     "execution_count": 43,
     "metadata": {},
     "output_type": "execute_result"
    }
   ],
   "source": [
    "all_names = pd.Series(top1000[\"name\"].unique())\n",
    "\n",
    "lesley_like = all_names[all_names.str.contains(\"Lesl\")]\n",
    "\n",
    "lesley_like"
   ]
  },
  {
   "cell_type": "markdown",
   "id": "d2778b5a",
   "metadata": {},
   "source": [
    "From there, we can filter down to just those names and sum births grouped by name\n",
    "to see the relative frequencies"
   ]
  },
  {
   "cell_type": "code",
   "execution_count": 44,
   "id": "de288ecc",
   "metadata": {},
   "outputs": [
    {
     "data": {
      "text/plain": [
       "name\n",
       "Leslee      1083\n",
       "Lesley     35038\n",
       "Lesli        929\n",
       "Leslie    380617\n",
       "Lesly      11434\n",
       "Name: births, dtype: int64"
      ]
     },
     "execution_count": 44,
     "metadata": {},
     "output_type": "execute_result"
    }
   ],
   "source": [
    "filtered = top1000[top1000[\"name\"].isin(lesley_like)]\n",
    "\n",
    "filtered.groupby(\"name\")[\"births\"].sum()"
   ]
  },
  {
   "cell_type": "code",
   "execution_count": 45,
   "id": "a1df1f1c",
   "metadata": {},
   "outputs": [],
   "source": [
    "#let’s aggregate by sex and year, and normalize within year\n",
    "table = filtered.pivot_table(\"births\", index=\"year\", columns=\"sex\", aggfunc=\"sum\")"
   ]
  },
  {
   "cell_type": "code",
   "execution_count": 46,
   "id": "f5fafcc5",
   "metadata": {},
   "outputs": [],
   "source": [
    "table = table.div(table.sum(axis=\"columns\"), axis=\"index\")"
   ]
  },
  {
   "cell_type": "code",
   "execution_count": 47,
   "id": "c3bab36c",
   "metadata": {},
   "outputs": [
    {
     "data": {
      "text/html": [
       "<div>\n",
       "<style scoped>\n",
       "    .dataframe tbody tr th:only-of-type {\n",
       "        vertical-align: middle;\n",
       "    }\n",
       "\n",
       "    .dataframe tbody tr th {\n",
       "        vertical-align: top;\n",
       "    }\n",
       "\n",
       "    .dataframe thead th {\n",
       "        text-align: right;\n",
       "    }\n",
       "</style>\n",
       "<table border=\"1\" class=\"dataframe\">\n",
       "  <thead>\n",
       "    <tr style=\"text-align: right;\">\n",
       "      <th>sex</th>\n",
       "      <th>F</th>\n",
       "      <th>M</th>\n",
       "    </tr>\n",
       "    <tr>\n",
       "      <th>year</th>\n",
       "      <th></th>\n",
       "      <th></th>\n",
       "    </tr>\n",
       "  </thead>\n",
       "  <tbody>\n",
       "    <tr>\n",
       "      <th>2019</th>\n",
       "      <td>1.0</td>\n",
       "      <td>NaN</td>\n",
       "    </tr>\n",
       "    <tr>\n",
       "      <th>2020</th>\n",
       "      <td>1.0</td>\n",
       "      <td>NaN</td>\n",
       "    </tr>\n",
       "    <tr>\n",
       "      <th>2021</th>\n",
       "      <td>1.0</td>\n",
       "      <td>NaN</td>\n",
       "    </tr>\n",
       "    <tr>\n",
       "      <th>2022</th>\n",
       "      <td>1.0</td>\n",
       "      <td>NaN</td>\n",
       "    </tr>\n",
       "    <tr>\n",
       "      <th>2023</th>\n",
       "      <td>1.0</td>\n",
       "      <td>NaN</td>\n",
       "    </tr>\n",
       "  </tbody>\n",
       "</table>\n",
       "</div>"
      ],
      "text/plain": [
       "sex     F   M\n",
       "year         \n",
       "2019  1.0 NaN\n",
       "2020  1.0 NaN\n",
       "2021  1.0 NaN\n",
       "2022  1.0 NaN\n",
       "2023  1.0 NaN"
      ]
     },
     "execution_count": 47,
     "metadata": {},
     "output_type": "execute_result"
    }
   ],
   "source": [
    "table.tail()"
   ]
  },
  {
   "cell_type": "markdown",
   "id": "44541a31",
   "metadata": {},
   "source": [
    "Lastly, it’s now possible to make a plot of the breakdown by sex over time"
   ]
  },
  {
   "cell_type": "code",
   "execution_count": 48,
   "id": "26814860",
   "metadata": {},
   "outputs": [
    {
     "data": {
      "text/plain": [
       "<AxesSubplot:xlabel='year'>"
      ]
     },
     "execution_count": 48,
     "metadata": {},
     "output_type": "execute_result"
    },
    {
     "data": {
      "image/png": "[encoded data removed]",
      "text/plain": [
       "<Figure size 640x480 with 1 Axes>"
      ]
     },
     "metadata": {},
     "output_type": "display_data"
    }
   ],
   "source": [
    "table.plot(style={\"M\": \"k-\", \"F\": \"r--\"})"
   ]
  },
  {
   "cell_type": "code",
   "execution_count": null,
   "id": "df838164",
   "metadata": {},
   "outputs": [],
   "source": []
  }
 ],
 "metadata": {
  "kernelspec": {
   "display_name": "Python 3 (ipykernel)",
   "language": "python",
   "name": "python3"
  },
  "language_info": {
   "codemirror_mode": {
    "name": "ipython",
    "version": 3
   },
   "file_extension": ".py",
   "mimetype": "text/x-python",
   "name": "python",
   "nbconvert_exporter": "python",
   "pygments_lexer": "ipython3",
   "version": "3.9.13"
  }
 },
 "nbformat": 4,
 "nbformat_minor": 5
}
